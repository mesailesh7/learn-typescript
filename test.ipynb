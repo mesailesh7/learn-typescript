{
 "cells": [
  {
   "cell_type": "code",
   "execution_count": null,
   "id": "6f7f9899",
   "metadata": {
    "vscode": {
     "languageId": "polyglot-notebook"
    }
   },
   "outputs": [],
   "source": [
    "hi\n"
   ]
  },
  {
   "cell_type": "code",
   "execution_count": null,
   "id": "a80d16fb",
   "metadata": {
    "vscode": {
     "languageId": "polyglot-notebook"
    }
   },
   "outputs": [],
   "source": []
  }
 ],
 "metadata": {
  "language_info": {
   "name": "python"
  }
 },
 "nbformat": 4,
 "nbformat_minor": 5
}
